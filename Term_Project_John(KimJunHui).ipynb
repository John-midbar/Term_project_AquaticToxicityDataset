{
 "cells": [
  {
   "cell_type": "code",
   "execution_count": 1,
   "metadata": {},
   "outputs": [],
   "source": [
    "import numpy as np\n",
    "import pandas as pd\n",
    "\n",
    "import torch\n",
    "import torch.nn as nn\n",
    "import torchvision\n",
    "import torchvision.transforms as transforms\n",
    "import torch.optim as optim\n",
    "import torch.nn.functional as F"
   ]
  },
  {
   "cell_type": "code",
   "execution_count": 2,
   "metadata": {},
   "outputs": [],
   "source": [
    "from sklearn.model_selection import train_test_split\n",
    "from sklearn.preprocessing import StandardScaler\n",
    "\n",
    "data = pd.read_csv(\"qsar_aquatic_toxicity.csv\",sep = ';')\n",
    "\n",
    "X = data.iloc[:, 0:8]\n",
    "Y = data.iloc[:,8:9]\n",
    "\n",
    "x_train, x_test, y_train, y_test = train_test_split(X,Y,  test_size=0.10,\n",
    "                                                    random_state=42)\n",
    "normal = StandardScaler()\n",
    "y_train = normal.fit_transform(y_train)\n",
    "y_test = normal.transform(y_test)\n",
    "\n",
    "X_train = torch.FloatTensor(np.array(x_train))\n",
    "X_test = torch.FloatTensor(np.array(x_test))\n",
    "Y_train = torch.FloatTensor(np.array(y_train))\n",
    "Y_test = torch.FloatTensor(np.array(y_test))"
   ]
  },
  {
   "cell_type": "code",
   "execution_count": 3,
   "metadata": {},
   "outputs": [],
   "source": [
    "num_epoch = 40000\n",
    "learning_rate = 7e-5\n",
    "weight_decay_p = 0.15\n",
    "\n",
    "model = nn.Linear(8,1)\n",
    "\n",
    "optimizer = optim.SGD(model.parameters(), lr=learning_rate, \n",
    "                      weight_decay=weight_decay_p)\n",
    "criterion = nn.MSELoss()"
   ]
  },
  {
   "cell_type": "code",
   "execution_count": 4,
   "metadata": {},
   "outputs": [],
   "source": [
    "def train_dataset(model, X_train, Y_train, epochs):\n",
    "    for i in range(1, epochs + 1):\n",
    "\n",
    "        prediction = model(X_train)\n",
    "\n",
    "        cost = F.mse_loss(prediction, Y_train)\n",
    "\n",
    "        optimizer.zero_grad()\n",
    "        cost.backward()\n",
    "        optimizer.step()\n",
    "\n",
    "        if i % (epochs/20) == 0:\n",
    "            print('Epoch {:4d}/{} Cost: {:.6f}'.format(i, epochs, cost.item()))"
   ]
  },
  {
   "cell_type": "code",
   "execution_count": 5,
   "metadata": {},
   "outputs": [],
   "source": [
    "def display_results(model, X_test, Y_test):\n",
    "    import matplotlib.pyplot as plt\n",
    "    prediction = model(X_test)\n",
    "    loss = criterion(input=prediction, target=Y_test)\n",
    "    \n",
    "    m,n = np.shape(Y_test)\n",
    "    x_axies = np.arange(m)\n",
    "    Y_test_np = Y_test.numpy()\n",
    "    X_test_np = X_test.numpy()\n",
    "    prediction_np = prediction.detach().numpy()\n",
    "\n",
    "    \n",
    "    plt.clf()\n",
    "    plt.scatter(x_axies, prediction_np, label = \"original data\", color = \"red\")\n",
    "    plt.scatter(x_axies, Y_test_np, label = \"predicted data\", color =\"blue\")\n",
    "    plt.legend()\n",
    "    plt.xlabel(\"# of data\")\n",
    "    plt.ylabel(\"Values of LC50\")\n",
    "    plt.title('loss={:.4}'.format(loss.data.item()))\n",
    "    plt.ylim(-10,10)\n",
    "    plt.show()"
   ]
  },
  {
   "cell_type": "code",
   "execution_count": 6,
   "metadata": {},
   "outputs": [
    {
     "name": "stdout",
     "output_type": "stream",
     "text": [
      "Epoch 2000/40000 Cost: 0.998950\n",
      "Epoch 4000/40000 Cost: 0.812438\n",
      "Epoch 6000/40000 Cost: 0.709881\n",
      "Epoch 8000/40000 Cost: 0.648678\n",
      "Epoch 10000/40000 Cost: 0.610141\n",
      "Epoch 12000/40000 Cost: 0.584715\n",
      "Epoch 14000/40000 Cost: 0.567281\n",
      "Epoch 16000/40000 Cost: 0.554948\n",
      "Epoch 18000/40000 Cost: 0.546004\n",
      "Epoch 20000/40000 Cost: 0.539381\n",
      "Epoch 22000/40000 Cost: 0.534389\n",
      "Epoch 24000/40000 Cost: 0.530565\n",
      "Epoch 26000/40000 Cost: 0.527591\n",
      "Epoch 28000/40000 Cost: 0.525244\n",
      "Epoch 30000/40000 Cost: 0.523367\n",
      "Epoch 32000/40000 Cost: 0.521845\n",
      "Epoch 34000/40000 Cost: 0.520596\n",
      "Epoch 36000/40000 Cost: 0.519558\n",
      "Epoch 38000/40000 Cost: 0.518685\n",
      "Epoch 40000/40000 Cost: 0.517943\n"
     ]
    },
    {
     "data": {
      "image/png": "[encoded data removed]",
      "text/plain": [
       "<Figure size 432x288 with 1 Axes>"
      ]
     },
     "metadata": {
      "needs_background": "light"
     },
     "output_type": "display_data"
    }
   ],
   "source": [
    "train_dataset(model, X_train, Y_train, epochs=num_epoch)\n",
    "display_results(model, X_test,Y_test)"
   ]
  }
 ],
 "metadata": {
  "kernelspec": {
   "display_name": "Python 3",
   "language": "python",
   "name": "python3"
  },
  "language_info": {
   "codemirror_mode": {
    "name": "ipython",
    "version": 3
   },
   "file_extension": ".py",
   "mimetype": "text/x-python",
   "name": "python",
   "nbconvert_exporter": "python",
   "pygments_lexer": "ipython3",
   "version": "3.6.12"
  }
 },
 "nbformat": 4,
 "nbformat_minor": 4
}
